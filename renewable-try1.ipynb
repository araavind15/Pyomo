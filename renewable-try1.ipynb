{
 "cells": [
  {
   "cell_type": "code",
   "execution_count": 1,
   "metadata": {},
   "outputs": [],
   "source": [
    "from pyomo.environ import *"
   ]
  },
  {
   "cell_type": "code",
   "execution_count": 24,
   "metadata": {},
   "outputs": [
    {
     "ename": "TypeError",
     "evalue": "list indices must be integers or slices, not set",
     "output_type": "error",
     "traceback": [
      "\u001b[1;31m---------------------------------------------------------------------------\u001b[0m",
      "\u001b[1;31mTypeError\u001b[0m                                 Traceback (most recent call last)",
      "\u001b[1;32mUntitled-1.ipynb Cell 2\u001b[0m in \u001b[0;36m<cell line: 8>\u001b[1;34m()\u001b[0m\n\u001b[0;32m      <a href='vscode-notebook-cell:Untitled-1.ipynb?jupyter-notebook#W1sdW50aXRsZWQ%3D?line=5'>6</a>\u001b[0m model\u001b[39m.\u001b[39mbuy_price\u001b[39m=\u001b[39m\u001b[39mlist\u001b[39m[\u001b[39m1\u001b[39m,\u001b[39m3\u001b[39m,\u001b[39m5\u001b[39m,\u001b[39m15\u001b[39m,\u001b[39m20\u001b[39m]\n\u001b[0;32m      <a href='vscode-notebook-cell:Untitled-1.ipynb?jupyter-notebook#W1sdW50aXRsZWQ%3D?line=6'>7</a>\u001b[0m model\u001b[39m.\u001b[39msell_price\u001b[39m=\u001b[39m\u001b[39mlist\u001b[39m[\u001b[39m1\u001b[39m,\u001b[39m1\u001b[39m,\u001b[39m2\u001b[39m,\u001b[39m18\u001b[39m,\u001b[39m15\u001b[39m]\n\u001b[1;32m----> <a href='vscode-notebook-cell:Untitled-1.ipynb?jupyter-notebook#W1sdW50aXRsZWQ%3D?line=7'>8</a>\u001b[0m model\u001b[39m.\u001b[39msolar_sell\u001b[39m=\u001b[39mVar(i, bounds\u001b[39m=\u001b[39m(\u001b[39m0\u001b[39m,model\u001b[39m.\u001b[39;49msolar_production[i]))\n\u001b[0;32m      <a href='vscode-notebook-cell:Untitled-1.ipynb?jupyter-notebook#W1sdW50aXRsZWQ%3D?line=8'>9</a>\u001b[0m model\u001b[39m.\u001b[39msolar_retain\u001b[39m=\u001b[39mVar(i, bounds\u001b[39m=\u001b[39m(\u001b[39m0\u001b[39m,model\u001b[39m.\u001b[39msolar_production[i]))\n\u001b[0;32m     <a href='vscode-notebook-cell:Untitled-1.ipynb?jupyter-notebook#W1sdW50aXRsZWQ%3D?line=9'>10</a>\u001b[0m model\u001b[39m.\u001b[39mweight\u001b[39m=\u001b[39mConstraint()\n",
      "\u001b[1;31mTypeError\u001b[0m: list indices must be integers or slices, not set"
     ]
    }
   ],
   "source": [
    "model=ConcreteModel()\n",
    "i={'0','1','2','3','4'}\n",
    "model.solar_production=list([0,0,1,4,5])\n",
    "#solar_production_1={0,0,1,4,5}\n",
    "model.demand=list[10,11,12,19,21]\n",
    "model.buy_price=list[1,3,5,15,20]\n",
    "model.sell_price=list[1,1,2,18,15]\n",
    "model.solar_sell=Var(i, bounds=(0,model.solar_production[i]))\n",
    "model.solar_retain=Var(i, bounds=(0,model.solar_production[i]))\n",
    "model.weight=Constraint()"
   ]
  },
  {
   "cell_type": "code",
   "execution_count": 11,
   "metadata": {},
   "outputs": [
    {
     "data": {
      "text/plain": [
       "1"
      ]
     },
     "execution_count": 11,
     "metadata": {},
     "output_type": "execute_result"
    }
   ],
   "source": [
    "model.solar_production[2]"
   ]
  },
  {
   "cell_type": "code",
   "execution_count": null,
   "metadata": {},
   "outputs": [],
   "source": []
  }
 ],
 "metadata": {
  "kernelspec": {
   "display_name": "Python 3.9.5 64-bit",
   "language": "python",
   "name": "python3"
  },
  "language_info": {
   "codemirror_mode": {
    "name": "ipython",
    "version": 3
   },
   "file_extension": ".py",
   "mimetype": "text/x-python",
   "name": "python",
   "nbconvert_exporter": "python",
   "pygments_lexer": "ipython3",
   "version": "3.9.5"
  },
  "orig_nbformat": 4,
  "vscode": {
   "interpreter": {
    "hash": "11938c6bc6919ae2720b4d5011047913343b08a43b18698fd82dedb0d4417594"
   }
  }
 },
 "nbformat": 4,
 "nbformat_minor": 2
}
