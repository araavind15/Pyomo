{
 "cells": [
  {
   "cell_type": "code",
   "execution_count": 2,
   "metadata": {},
   "outputs": [],
   "source": [
    "from pyomo.environ import *"
   ]
  },
  {
   "cell_type": "code",
   "execution_count": 24,
   "metadata": {},
   "outputs": [
    {
     "ename": "TypeError",
     "evalue": "list indices must be integers or slices, not set",
     "output_type": "error",
     "traceback": [
      "\u001b[1;31m---------------------------------------------------------------------------\u001b[0m",
      "\u001b[1;31mTypeError\u001b[0m                                 Traceback (most recent call last)",
      "\u001b[1;32mUntitled-1.ipynb Cell 2\u001b[0m in \u001b[0;36m<cell line: 8>\u001b[1;34m()\u001b[0m\n\u001b[0;32m      <a href='vscode-notebook-cell:Untitled-1.ipynb?jupyter-notebook#W1sdW50aXRsZWQ%3D?line=5'>6</a>\u001b[0m model\u001b[39m.\u001b[39mbuy_price\u001b[39m=\u001b[39m\u001b[39mlist\u001b[39m[\u001b[39m1\u001b[39m,\u001b[39m3\u001b[39m,\u001b[39m5\u001b[39m,\u001b[39m15\u001b[39m,\u001b[39m20\u001b[39m]\n\u001b[0;32m      <a href='vscode-notebook-cell:Untitled-1.ipynb?jupyter-notebook#W1sdW50aXRsZWQ%3D?line=6'>7</a>\u001b[0m model\u001b[39m.\u001b[39msell_price\u001b[39m=\u001b[39m\u001b[39mlist\u001b[39m[\u001b[39m1\u001b[39m,\u001b[39m1\u001b[39m,\u001b[39m2\u001b[39m,\u001b[39m18\u001b[39m,\u001b[39m15\u001b[39m]\n\u001b[1;32m----> <a href='vscode-notebook-cell:Untitled-1.ipynb?jupyter-notebook#W1sdW50aXRsZWQ%3D?line=7'>8</a>\u001b[0m model\u001b[39m.\u001b[39msolar_sell\u001b[39m=\u001b[39mVar(i, bounds\u001b[39m=\u001b[39m(\u001b[39m0\u001b[39m,model\u001b[39m.\u001b[39;49msolar_production[i]))\n\u001b[0;32m      <a href='vscode-notebook-cell:Untitled-1.ipynb?jupyter-notebook#W1sdW50aXRsZWQ%3D?line=8'>9</a>\u001b[0m model\u001b[39m.\u001b[39msolar_retain\u001b[39m=\u001b[39mVar(i, bounds\u001b[39m=\u001b[39m(\u001b[39m0\u001b[39m,model\u001b[39m.\u001b[39msolar_production[i]))\n\u001b[0;32m     <a href='vscode-notebook-cell:Untitled-1.ipynb?jupyter-notebook#W1sdW50aXRsZWQ%3D?line=9'>10</a>\u001b[0m model\u001b[39m.\u001b[39mweight\u001b[39m=\u001b[39mConstraint()\n",
      "\u001b[1;31mTypeError\u001b[0m: list indices must be integers or slices, not set"
     ]
    }
   ],
   "source": [
    "model=ConcreteModel()\n",
    "#i={'0','1','2','3','4'}\n",
    "model.hours=Set(initialize=[0,1,2,3,4])\n",
    "solar_production={0: 0, 1: 2, 2: 4, 3:8, 4: 5}\n",
    "model.sp=Param(model.hours, initialize=solar_production)\n",
    "#solar_production_1={0,0,1,4,5}\n",
    "model.demand=list[10,11,12,19,21]\n",
    "model.buy_price=list[1,3,5,15,20]\n",
    "model.sell_price=list[1,1,2,18,15]\n",
    "model.solar_sell=Var(i, bounds=(0,model.solar_production[i]))\n",
    "model.solar_retain=Var(i, bounds=(0,model.solar_production[i]))\n",
    "model.weight=Constraint()"
   ]
  },
  {
   "cell_type": "code",
   "execution_count": 59,
   "metadata": {},
   "outputs": [],
   "source": [
    "from pyomo.environ import *\n",
    "model=ConcreteModel()\n",
    "#i={'0','1','2','3','4'}\n",
    "model.hours=Set(initialize=[0,1,2,3,4])\n",
    "solar_production={0: 0, 1: 2, 2: 4, 3:8, 4: 5}\n",
    "demand={0:10, 1:11, 2:12, 3:19, 4:21}\n",
    "model.d=Param(model.hours, initialize=demand)\n",
    "model.sp=Param(model.hours, initialize=solar_production)\n",
    "buy_price={0:1, 1:3, 2:5, 3:15, 4:20}\n",
    "sell_price={0:1, 1:1, 2:2, 3:18, 4:15}\n",
    "model.buyp=Param(model.hours, initialize=buy_price)\n",
    "model.sellp=Param(model.hours, initialize=sell_price)\n",
    "lb={i:0 for i in model.hours}\n",
    "ub={i:solar_production[i] for i in model.hours}\n",
    "def var_lim(m,i):\n",
    "    return (lb[i], ub[i])\n",
    "model.solar_sell=Var(model.hours, domain=PositiveReals, bounds=var_lim)\n",
    "model.solar_retain=Var(model.hours, domain=PositiveReals, bounds=var_lim)\n",
    "def cons_solar(m,i):\n",
    "    return (m.solar_sell[i] + m.solar_retain[i] == m.sp[i])\n",
    "model.constraint=Constraint(model.hours, rule=cons_solar)\n",
    "def obj_fn(m):\n",
    "    return sum((m.d[i]-m.solar_retain[i])*m.buyp[i]-(m.sellp[i]*m.solar_sell[i]) for i in m.hours) \n",
    "model.of=Objective(rule=obj_fn, sense=minimize)\n",
    "solvername='glpk'\n",
    "solverpath_folder='C:\\\\Data\\\\w64' \n",
    "solverpath_exe='C:\\\\Data\\\\w64\\\\glpsol' \n",
    "solver=SolverFactory(solvername,executable=solverpath_exe)\n",
    "result=solver.solve(model)"
   ]
  },
  {
   "cell_type": "code",
   "execution_count": 60,
   "metadata": {},
   "outputs": [
    {
     "name": "stdout",
     "output_type": "stream",
     "text": [
      "of : Size=1, Index=None, Active=True\n",
      "    Key  : Active : Value\n",
      "    None :   True : 538.0\n"
     ]
    }
   ],
   "source": [
    "model.of.display()"
   ]
  },
  {
   "cell_type": "code",
   "execution_count": 92,
   "metadata": {},
   "outputs": [],
   "source": [
    "from random import randint\n",
    "import numpy as np\n",
    "spro=dem=bprice=sprice=[]\n",
    "for _ in range(24):\n",
    "    spro1=randint(0,10)\n",
    "    dem1=randint(50,100)\n",
    "    bprice1=randint(-100,500)\n",
    "    sprice1=randint(50,70)\n",
    "    spro=np.append(spro,spro1)\n",
    "    dem=np.append(dem,dem1)\n",
    "    bprice=np.append(bprice,bprice1)\n",
    "    sprice=np.append(sprice,sprice1)"
   ]
  },
  {
   "cell_type": "code",
   "execution_count": 100,
   "metadata": {},
   "outputs": [],
   "source": [
    "model=ConcreteModel()\n",
    "model.hours=Set(initialize=range(24))\n",
    "solar_production={i:spro[i] for i in model.hours}\n",
    "demand={i:dem[i] for i in model.hours}\n",
    "buy_price={i:bprice[i] for i in model.hours}\n",
    "sell_price={i:sprice[i] for i in model.hours}\n"
   ]
  },
  {
   "cell_type": "code",
   "execution_count": 102,
   "metadata": {},
   "outputs": [],
   "source": [
    "model.d=Param(model.hours, initialize=demand)\n",
    "model.sp=Param(model.hours, initialize=solar_production)\n",
    "model.buyp=Param(model.hours, initialize=buy_price)\n",
    "model.sellp=Param(model.hours, initialize=sell_price)\n",
    "lb={i:0 for i in model.hours}\n",
    "ub={i:solar_production[i] for i in model.hours}\n",
    "def var_lim(m,i):\n",
    "    return (lb[i], ub[i])\n",
    "model.solar_sell=Var(model.hours, domain=PositiveReals, bounds=var_lim)\n",
    "model.solar_retain=Var(model.hours, domain=PositiveReals, bounds=var_lim)\n",
    "def cons_solar(m,i):\n",
    "    return (m.solar_sell[i] + m.solar_retain[i] == m.sp[i])\n",
    "model.constraint=Constraint(model.hours, rule=cons_solar)\n",
    "def obj_fn(m):\n",
    "    return sum((m.d[i]-m.solar_retain[i])*m.buyp[i]-(m.sellp[i]*m.solar_sell[i]) for i in m.hours) \n",
    "model.of=Objective(rule=obj_fn, sense=minimize)\n",
    "solvername='glpk'\n",
    "solverpath_folder='C:\\\\Data\\\\w64' \n",
    "solverpath_exe='C:\\\\Data\\\\w64\\\\glpsol' \n",
    "solver=SolverFactory(solvername,executable=solverpath_exe)\n",
    "result=solver.solve(model)"
   ]
  },
  {
   "cell_type": "code",
   "execution_count": 104,
   "metadata": {},
   "outputs": [
    {
     "name": "stdout",
     "output_type": "stream",
     "text": [
      "solar_retain : Size=24, Index=hours\n",
      "    Key : Lower : Value : Upper : Fixed : Stale : Domain\n",
      "      0 :     0 :   9.0 :   9.0 : False : False : PositiveReals\n",
      "      1 :     0 :   7.0 :   7.0 : False : False : PositiveReals\n",
      "      2 :     0 :   8.0 :   8.0 : False : False : PositiveReals\n",
      "      3 :     0 :   7.0 :   7.0 : False : False : PositiveReals\n",
      "      4 :     0 :   1.0 :   1.0 : False : False : PositiveReals\n",
      "      5 :     0 :   3.0 :   3.0 : False : False : PositiveReals\n",
      "      6 :     0 :   9.0 :   9.0 : False : False : PositiveReals\n",
      "      7 :     0 :   0.0 :   1.0 : False : False : PositiveReals\n",
      "      8 :     0 :   6.0 :   6.0 : False : False : PositiveReals\n",
      "      9 :     0 :   1.0 :   1.0 : False : False : PositiveReals\n",
      "     10 :     0 :   6.0 :   6.0 : False : False : PositiveReals\n",
      "     11 :     0 :   3.0 :   3.0 : False : False : PositiveReals\n",
      "     12 :     0 :   0.0 :   0.0 : False : False : PositiveReals\n",
      "     13 :     0 :   0.0 :   0.0 : False : False : PositiveReals\n",
      "     14 :     0 :   5.0 :   5.0 : False : False : PositiveReals\n",
      "     15 :     0 :   0.0 :   2.0 : False : False : PositiveReals\n",
      "     16 :     0 :  10.0 :  10.0 : False : False : PositiveReals\n",
      "     17 :     0 :   2.0 :   2.0 : False : False : PositiveReals\n",
      "     18 :     0 :   0.0 :   6.0 : False : False : PositiveReals\n",
      "     19 :     0 :  10.0 :  10.0 : False : False : PositiveReals\n",
      "     20 :     0 :   1.0 :   1.0 : False : False : PositiveReals\n",
      "     21 :     0 :   5.0 :   5.0 : False : False : PositiveReals\n",
      "     22 :     0 :   0.0 :   8.0 : False : False : PositiveReals\n",
      "     23 :     0 :   4.0 :   4.0 : False : False : PositiveReals\n"
     ]
    }
   ],
   "source": [
    "model.solar_retain.display()"
   ]
  },
  {
   "cell_type": "code",
   "execution_count": null,
   "metadata": {},
   "outputs": [],
   "source": []
  }
 ],
 "metadata": {
  "kernelspec": {
   "display_name": "Python 3.9.5 64-bit",
   "language": "python",
   "name": "python3"
  },
  "language_info": {
   "codemirror_mode": {
    "name": "ipython",
    "version": 3
   },
   "file_extension": ".py",
   "mimetype": "text/x-python",
   "name": "python",
   "nbconvert_exporter": "python",
   "pygments_lexer": "ipython3",
   "version": "3.9.5"
  },
  "orig_nbformat": 4,
  "vscode": {
   "interpreter": {
    "hash": "11938c6bc6919ae2720b4d5011047913343b08a43b18698fd82dedb0d4417594"
   }
  }
 },
 "nbformat": 4,
 "nbformat_minor": 2
}
