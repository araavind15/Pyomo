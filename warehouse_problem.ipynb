{
 "cells": [
  {
   "cell_type": "code",
   "execution_count": 2,
   "metadata": {},
   "outputs": [],
   "source": [
    "from pyomo.environ import *"
   ]
  },
  {
   "cell_type": "code",
   "execution_count": 19,
   "metadata": {},
   "outputs": [],
   "source": [
    "model=ConcreteModel(name=\"(WL)\")\n",
    "W={'harlingen', 'Memphis', 'Ashland'}\n",
    "C={'NYC', 'LA', 'Chicago', 'Houston'}\n",
    "d={('harlingen','NYC'): 1956, ('harlingen', 'LA'): 1606, ('harlingen', 'Chicago'): 1410, ('harlingen', 'Houston'): 330, \\\n",
    "    ('Memphis','NYC'): 1096, ('Memphis', 'LA'): 1792, ('Memphis', 'Chicago'): 531, ('Memphis', 'Houston'): 567, \\\n",
    "    ('Ashland','NYC'): 485, ('Ashland', 'LA'): 2322, ('Ashland', 'Chicago'): 324, ('Ashland', 'Houston'): 1236 }\n",
    "model.x=Var(W,C,bounds=(0,1))\n",
    "model.y=Var(W, within=Binary)\n",
    "def one_per_cust_rule(m,c):\n",
    "    return(sum(m.x[w,c] for w in W)==1)\n",
    "def warehouse_active_rule(m,w,c):\n",
    "    return m.x[w,c]<=m.y[w]\n",
    "model.warehouse_active=Constraint(W,C, rule=warehouse_active_rule)\n",
    "model.one_per_customer=Constraint(C, rule=one_per_cust_rule)\n",
    "P=2\n",
    "def num_warehouse_rule(m):\n",
    "    return(sum(m.y[w] for w in W)<=2)\n",
    "model.num_warehouse=Constraint(rule=num_warehouse_rule)\n",
    "def objective_function(m):\n",
    "    return(sum(d[w,c]*model.x[w,c] for w in W for c in C))\n",
    "model.obj=Objective(rule=objective_function, sense=minimize)"
   ]
  },
  {
   "cell_type": "code",
   "execution_count": 20,
   "metadata": {},
   "outputs": [],
   "source": [
    "solvername='glpk'\n",
    "solverpath_folder='C:\\\\Data\\\\w64' #does not need to be directly on c drive\n",
    "solverpath_exe='C:\\\\Data\\\\w64\\\\glpsol' #does not need to be directly on c drive\n",
    "solver=SolverFactory(solvername,executable=solverpath_exe)"
   ]
  },
  {
   "cell_type": "code",
   "execution_count": 21,
   "metadata": {},
   "outputs": [
    {
     "name": "stdout",
     "output_type": "stream",
     "text": [
      "8 Set Declarations\n",
      "    one_per_customer_index : Size=1, Index=None, Ordered=False\n",
      "        Key  : Dimen : Domain : Size : Members\n",
      "        None :     1 :    Any :    4 : {'Chicago', 'Houston', 'LA', 'NYC'}\n",
      "    warehouse_active_index : Size=1, Index=None, Ordered=False\n",
      "        Key  : Dimen : Domain                                            : Size : Members\n",
      "        None :     2 : warehouse_active_index_0*warehouse_active_index_1 :   12 : {('Ashland', 'Chicago'), ('Ashland', 'Houston'), ('Ashland', 'LA'), ('Ashland', 'NYC'), ('Memphis', 'Chicago'), ('Memphis', 'Houston'), ('Memphis', 'LA'), ('Memphis', 'NYC'), ('harlingen', 'Chicago'), ('harlingen', 'Houston'), ('harlingen', 'LA'), ('harlingen', 'NYC')}\n",
      "    warehouse_active_index_0 : Size=1, Index=None, Ordered=False\n",
      "        Key  : Dimen : Domain : Size : Members\n",
      "        None :     1 :    Any :    3 : {'Ashland', 'Memphis', 'harlingen'}\n",
      "    warehouse_active_index_1 : Size=1, Index=None, Ordered=False\n",
      "        Key  : Dimen : Domain : Size : Members\n",
      "        None :     1 :    Any :    4 : {'Chicago', 'Houston', 'LA', 'NYC'}\n",
      "    x_index : Size=1, Index=None, Ordered=False\n",
      "        Key  : Dimen : Domain              : Size : Members\n",
      "        None :     2 : x_index_0*x_index_1 :   12 : {('Ashland', 'Chicago'), ('Ashland', 'Houston'), ('Ashland', 'LA'), ('Ashland', 'NYC'), ('Memphis', 'Chicago'), ('Memphis', 'Houston'), ('Memphis', 'LA'), ('Memphis', 'NYC'), ('harlingen', 'Chicago'), ('harlingen', 'Houston'), ('harlingen', 'LA'), ('harlingen', 'NYC')}\n",
      "    x_index_0 : Size=1, Index=None, Ordered=False\n",
      "        Key  : Dimen : Domain : Size : Members\n",
      "        None :     1 :    Any :    3 : {'Ashland', 'Memphis', 'harlingen'}\n",
      "    x_index_1 : Size=1, Index=None, Ordered=False\n",
      "        Key  : Dimen : Domain : Size : Members\n",
      "        None :     1 :    Any :    4 : {'Chicago', 'Houston', 'LA', 'NYC'}\n",
      "    y_index : Size=1, Index=None, Ordered=False\n",
      "        Key  : Dimen : Domain : Size : Members\n",
      "        None :     1 :    Any :    3 : {'Ashland', 'Memphis', 'harlingen'}\n",
      "\n",
      "2 Var Declarations\n",
      "    x : Size=12, Index=x_index\n",
      "        Key                      : Lower : Value : Upper : Fixed : Stale : Domain\n",
      "          ('Ashland', 'Chicago') :     0 :   1.0 :     1 : False : False :  Reals\n",
      "          ('Ashland', 'Houston') :     0 :   0.0 :     1 : False : False :  Reals\n",
      "               ('Ashland', 'LA') :     0 :   0.0 :     1 : False : False :  Reals\n",
      "              ('Ashland', 'NYC') :     0 :   1.0 :     1 : False : False :  Reals\n",
      "          ('Memphis', 'Chicago') :     0 :   0.0 :     1 : False : False :  Reals\n",
      "          ('Memphis', 'Houston') :     0 :   0.0 :     1 : False : False :  Reals\n",
      "               ('Memphis', 'LA') :     0 :   0.0 :     1 : False : False :  Reals\n",
      "              ('Memphis', 'NYC') :     0 :   0.0 :     1 : False : False :  Reals\n",
      "        ('harlingen', 'Chicago') :     0 :   0.0 :     1 : False : False :  Reals\n",
      "        ('harlingen', 'Houston') :     0 :   1.0 :     1 : False : False :  Reals\n",
      "             ('harlingen', 'LA') :     0 :   1.0 :     1 : False : False :  Reals\n",
      "            ('harlingen', 'NYC') :     0 :   0.0 :     1 : False : False :  Reals\n",
      "    y : Size=3, Index=y_index\n",
      "        Key       : Lower : Value : Upper : Fixed : Stale : Domain\n",
      "          Ashland :     0 :   1.0 :     1 : False : False : Binary\n",
      "          Memphis :     0 :   0.0 :     1 : False : False : Binary\n",
      "        harlingen :     0 :   1.0 :     1 : False : False : Binary\n",
      "\n",
      "1 Objective Declarations\n",
      "    obj : Size=1, Index=None, Active=True\n",
      "        Key  : Active : Sense    : Expression\n",
      "        None :   True : minimize : 1410*x[harlingen,Chicago] + 1606*x[harlingen,LA] + 1956*x[harlingen,NYC] + 330*x[harlingen,Houston] + 324*x[Ashland,Chicago] + 2322*x[Ashland,LA] + 485*x[Ashland,NYC] + 1236*x[Ashland,Houston] + 531*x[Memphis,Chicago] + 1792*x[Memphis,LA] + 1096*x[Memphis,NYC] + 567*x[Memphis,Houston]\n",
      "\n",
      "3 Constraint Declarations\n",
      "    num_warehouse : Size=1, Index=None, Active=True\n",
      "        Key  : Lower : Body                                   : Upper : Active\n",
      "        None :  -Inf : y[harlingen] + y[Ashland] + y[Memphis] :   2.0 :   True\n",
      "    one_per_customer : Size=4, Index=one_per_customer_index, Active=True\n",
      "        Key     : Lower : Body                                                           : Upper : Active\n",
      "        Chicago :   1.0 : x[harlingen,Chicago] + x[Ashland,Chicago] + x[Memphis,Chicago] :   1.0 :   True\n",
      "        Houston :   1.0 : x[harlingen,Houston] + x[Ashland,Houston] + x[Memphis,Houston] :   1.0 :   True\n",
      "             LA :   1.0 :                x[harlingen,LA] + x[Ashland,LA] + x[Memphis,LA] :   1.0 :   True\n",
      "            NYC :   1.0 :             x[harlingen,NYC] + x[Ashland,NYC] + x[Memphis,NYC] :   1.0 :   True\n",
      "    warehouse_active : Size=12, Index=warehouse_active_index, Active=True\n",
      "        Key                      : Lower : Body                                : Upper : Active\n",
      "          ('Ashland', 'Chicago') :  -Inf :     x[Ashland,Chicago] - y[Ashland] :   0.0 :   True\n",
      "          ('Ashland', 'Houston') :  -Inf :     x[Ashland,Houston] - y[Ashland] :   0.0 :   True\n",
      "               ('Ashland', 'LA') :  -Inf :          x[Ashland,LA] - y[Ashland] :   0.0 :   True\n",
      "              ('Ashland', 'NYC') :  -Inf :         x[Ashland,NYC] - y[Ashland] :   0.0 :   True\n",
      "          ('Memphis', 'Chicago') :  -Inf :     x[Memphis,Chicago] - y[Memphis] :   0.0 :   True\n",
      "          ('Memphis', 'Houston') :  -Inf :     x[Memphis,Houston] - y[Memphis] :   0.0 :   True\n",
      "               ('Memphis', 'LA') :  -Inf :          x[Memphis,LA] - y[Memphis] :   0.0 :   True\n",
      "              ('Memphis', 'NYC') :  -Inf :         x[Memphis,NYC] - y[Memphis] :   0.0 :   True\n",
      "        ('harlingen', 'Chicago') :  -Inf : x[harlingen,Chicago] - y[harlingen] :   0.0 :   True\n",
      "        ('harlingen', 'Houston') :  -Inf : x[harlingen,Houston] - y[harlingen] :   0.0 :   True\n",
      "             ('harlingen', 'LA') :  -Inf :      x[harlingen,LA] - y[harlingen] :   0.0 :   True\n",
      "            ('harlingen', 'NYC') :  -Inf :     x[harlingen,NYC] - y[harlingen] :   0.0 :   True\n",
      "\n",
      "14 Declarations: x_index_0 x_index_1 x_index x y_index y warehouse_active_index_0 warehouse_active_index_1 warehouse_active_index warehouse_active one_per_customer_index one_per_customer num_warehouse obj\n"
     ]
    }
   ],
   "source": [
    "solver.solve(model)\n",
    "model.pprint()"
   ]
  },
  {
   "cell_type": "code",
   "execution_count": 24,
   "metadata": {},
   "outputs": [],
   "source": [
    "model=ConcreteModel(name=\"(WL)\")\n",
    "W={'harlingen', 'Memphis', 'Ashland'}\n",
    "C={'NYC', 'LA', 'Chicago', 'Houston'}\n",
    "d={('harlingen','NYC'): 1956, ('harlingen', 'LA'): 1606, ('harlingen', 'Chicago'): 1410, ('harlingen', 'Houston'): 330, \\\n",
    "    ('Memphis','NYC'): 1096, ('Memphis', 'LA'): 1792, ('Memphis', 'Chicago'): 531, ('Memphis', 'Houston'): 567, \\\n",
    "    ('Ashland','NYC'): 485, ('Ashland', 'LA'): 2322, ('Ashland', 'Chicago'): 324, ('Ashland', 'Houston'): 1236 }\n",
    "model.x=Var(W,C, bounds=(0,1))\n",
    "model.y=Var(W, within=Binary)\n",
    "def obj_fn(m):\n",
    "    return sum(m.x[w,c]*d[w,c] for w in W for c in C)\n",
    "model.obj=Objective(rule=obj_fn)\n",
    "def num_warehouse(m,w):\n",
    "    return sum(m.y[w] for w in W) <=2\n",
    "model.num_warehouses=Constraint(W, rule=num_warehouse)\n",
    "def customer_demand_meet(m,w,c):\n",
    "    return sum(m.x[w,c] for w in W)==1\n",
    "model_customer_demand=Constraint(W,C, rule=customer_demand_meet)\n",
    "def warehous_operation(m,w,c):\n",
    "    return (m.x[w,c]<=m.y[w])\n",
    "model_warehous_operation_status=Constraint(rule=warehous_operation)"
   ]
  },
  {
   "cell_type": "code",
   "execution_count": 25,
   "metadata": {},
   "outputs": [],
   "source": [
    "solvername='glpk'\n",
    "solverpath_folder='C:\\\\Data\\\\w64' #does not need to be directly on c drive\n",
    "solverpath_exe='C:\\\\Data\\\\w64\\\\glpsol' #does not need to be directly on c drive\n",
    "solver=SolverFactory(solvername,executable=solverpath_exe)"
   ]
  },
  {
   "cell_type": "code",
   "execution_count": 28,
   "metadata": {},
   "outputs": [
    {
     "name": "stdout",
     "output_type": "stream",
     "text": [
      "5 Set Declarations\n",
      "    num_warehouses_index : Size=1, Index=None, Ordered=False\n",
      "        Key  : Dimen : Domain : Size : Members\n",
      "        None :     1 :    Any :    3 : {'Ashland', 'Memphis', 'harlingen'}\n",
      "    x_index : Size=1, Index=None, Ordered=False\n",
      "        Key  : Dimen : Domain              : Size : Members\n",
      "        None :     2 : x_index_0*x_index_1 :   12 : {('Ashland', 'Chicago'), ('Ashland', 'Houston'), ('Ashland', 'LA'), ('Ashland', 'NYC'), ('Memphis', 'Chicago'), ('Memphis', 'Houston'), ('Memphis', 'LA'), ('Memphis', 'NYC'), ('harlingen', 'Chicago'), ('harlingen', 'Houston'), ('harlingen', 'LA'), ('harlingen', 'NYC')}\n",
      "    x_index_0 : Size=1, Index=None, Ordered=False\n",
      "        Key  : Dimen : Domain : Size : Members\n",
      "        None :     1 :    Any :    3 : {'Ashland', 'Memphis', 'harlingen'}\n",
      "    x_index_1 : Size=1, Index=None, Ordered=False\n",
      "        Key  : Dimen : Domain : Size : Members\n",
      "        None :     1 :    Any :    4 : {'Chicago', 'Houston', 'LA', 'NYC'}\n",
      "    y_index : Size=1, Index=None, Ordered=False\n",
      "        Key  : Dimen : Domain : Size : Members\n",
      "        None :     1 :    Any :    3 : {'Ashland', 'Memphis', 'harlingen'}\n",
      "\n",
      "2 Var Declarations\n",
      "    x : Size=12, Index=x_index\n",
      "        Key                      : Lower : Value : Upper : Fixed : Stale : Domain\n",
      "          ('Ashland', 'Chicago') :     0 :   0.0 :     1 : False : False :  Reals\n",
      "          ('Ashland', 'Houston') :     0 :   0.0 :     1 : False : False :  Reals\n",
      "               ('Ashland', 'LA') :     0 :   0.0 :     1 : False : False :  Reals\n",
      "              ('Ashland', 'NYC') :     0 :   0.0 :     1 : False : False :  Reals\n",
      "          ('Memphis', 'Chicago') :     0 :   0.0 :     1 : False : False :  Reals\n",
      "          ('Memphis', 'Houston') :     0 :   0.0 :     1 : False : False :  Reals\n",
      "               ('Memphis', 'LA') :     0 :   0.0 :     1 : False : False :  Reals\n",
      "              ('Memphis', 'NYC') :     0 :   0.0 :     1 : False : False :  Reals\n",
      "        ('harlingen', 'Chicago') :     0 :   0.0 :     1 : False : False :  Reals\n",
      "        ('harlingen', 'Houston') :     0 :   0.0 :     1 : False : False :  Reals\n",
      "             ('harlingen', 'LA') :     0 :   0.0 :     1 : False : False :  Reals\n",
      "            ('harlingen', 'NYC') :     0 :   0.0 :     1 : False : False :  Reals\n",
      "    y : Size=3, Index=y_index\n",
      "        Key       : Lower : Value : Upper : Fixed : Stale : Domain\n",
      "          Ashland :     0 :   0.0 :     1 : False : False : Binary\n",
      "          Memphis :     0 :   0.0 :     1 : False : False : Binary\n",
      "        harlingen :     0 :   0.0 :     1 : False : False : Binary\n",
      "\n",
      "1 Objective Declarations\n",
      "    obj : Size=1, Index=None, Active=True\n",
      "        Key  : Active : Sense    : Expression\n",
      "        None :   True : minimize : 1410*x[harlingen,Chicago] + 1606*x[harlingen,LA] + 1956*x[harlingen,NYC] + 330*x[harlingen,Houston] + 324*x[Ashland,Chicago] + 2322*x[Ashland,LA] + 485*x[Ashland,NYC] + 1236*x[Ashland,Houston] + 531*x[Memphis,Chicago] + 1792*x[Memphis,LA] + 1096*x[Memphis,NYC] + 567*x[Memphis,Houston]\n",
      "\n",
      "1 Constraint Declarations\n",
      "    num_warehouses : Size=3, Index=num_warehouses_index, Active=True\n",
      "        Key       : Lower : Body                                   : Upper : Active\n",
      "          Ashland :  -Inf : y[harlingen] + y[Ashland] + y[Memphis] :   2.0 :   True\n",
      "          Memphis :  -Inf : y[harlingen] + y[Ashland] + y[Memphis] :   2.0 :   True\n",
      "        harlingen :  -Inf : y[harlingen] + y[Ashland] + y[Memphis] :   2.0 :   True\n",
      "\n",
      "9 Declarations: x_index_0 x_index_1 x_index x y_index y obj num_warehouses_index num_warehouses\n"
     ]
    }
   ],
   "source": [
    "result=solver.solve(model)\n",
    "model.pprint()"
   ]
  },
  {
   "cell_type": "code",
   "execution_count": 29,
   "metadata": {},
   "outputs": [
    {
     "name": "stdout",
     "output_type": "stream",
     "text": [
      "\n",
      "Problem: \n",
      "- Name: unknown\n",
      "  Lower bound: 0.0\n",
      "  Upper bound: 0.0\n",
      "  Number of objectives: 1\n",
      "  Number of constraints: 4\n",
      "  Number of variables: 16\n",
      "  Number of nonzeros: 10\n",
      "  Sense: minimize\n",
      "Solver: \n",
      "- Status: ok\n",
      "  Termination condition: optimal\n",
      "  Statistics: \n",
      "    Branch and bound: \n",
      "      Number of bounded subproblems: 1\n",
      "      Number of created subproblems: 1\n",
      "  Error rc: 0\n",
      "  Time: 0.1781916618347168\n",
      "Solution: \n",
      "- number of solutions: 0\n",
      "  number of solutions displayed: 0\n",
      "\n"
     ]
    }
   ],
   "source": [
    "print(result)"
   ]
  },
  {
   "cell_type": "code",
   "execution_count": 30,
   "metadata": {},
   "outputs": [],
   "source": [
    "List = list(model.x.keys())\n",
    "for i in List:\n",
    "    if model.x[i]() != 0:\n",
    "        print(i,'--', model.x[i]())"
   ]
  },
  {
   "cell_type": "code",
   "execution_count": 31,
   "metadata": {},
   "outputs": [
    {
     "data": {
      "text/plain": [
       "<itertools.product at 0x1d576876880>"
      ]
     },
     "execution_count": 31,
     "metadata": {},
     "output_type": "execute_result"
    }
   ],
   "source": []
  },
  {
   "cell_type": "code",
   "execution_count": null,
   "metadata": {},
   "outputs": [],
   "source": []
  }
 ],
 "metadata": {
  "kernelspec": {
   "display_name": "Python 3.9.5 64-bit",
   "language": "python",
   "name": "python3"
  },
  "language_info": {
   "codemirror_mode": {
    "name": "ipython",
    "version": 3
   },
   "file_extension": ".py",
   "mimetype": "text/x-python",
   "name": "python",
   "nbconvert_exporter": "python",
   "pygments_lexer": "ipython3",
   "version": "3.9.5"
  },
  "orig_nbformat": 4,
  "vscode": {
   "interpreter": {
    "hash": "11938c6bc6919ae2720b4d5011047913343b08a43b18698fd82dedb0d4417594"
   }
  }
 },
 "nbformat": 4,
 "nbformat_minor": 2
}
