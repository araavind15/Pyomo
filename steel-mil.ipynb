{
 "cells": [
  {
   "cell_type": "code",
   "execution_count": 3,
   "metadata": {},
   "outputs": [],
   "source": [
    "from pyomo.environ import *"
   ]
  },
  {
   "cell_type": "code",
   "execution_count": 35,
   "metadata": {},
   "outputs": [],
   "source": [
    "model=ConcreteModel()\n",
    "product={\"Band\", \"Coil\"}\n",
    "max_hours=10\n",
    "#time={(1/200), (1/140)}\n",
    "profit={25, 30}"
   ]
  },
  {
   "cell_type": "code",
   "execution_count": 36,
   "metadata": {},
   "outputs": [],
   "source": [
    "model.b=Var(bounds=(0, 6000))\n",
    "model.c=Var(bounds=(0,4000))"
   ]
  },
  {
   "cell_type": "code",
   "execution_count": 42,
   "metadata": {},
   "outputs": [
    {
     "name": "stdout",
     "output_type": "stream",
     "text": [
      "WARNING: Implicitly replacing the Component attribute limit (type=<class\n",
      "    'pyomo.core.base.constraint.ScalarConstraint'>) on block unknown with a\n",
      "    new Component (type=<class\n",
      "    'pyomo.core.base.constraint.AbstractScalarConstraint'>). This is usually\n",
      "    indicative of a modelling error. To avoid this warning, use\n",
      "    block.del_component() and block.add_component().\n",
      "WARNING: Implicitly replacing the Component attribute value (type=<class\n",
      "    'pyomo.core.base.objective.ScalarObjective'>) on block unknown with a new\n",
      "    Component (type=<class 'pyomo.core.base.objective.ScalarObjective'>). This\n",
      "    is usually indicative of a modelling error. To avoid this warning, use\n",
      "    block.del_component() and block.add_component().\n"
     ]
    }
   ],
   "source": [
    "model.limit=Constraint(expr=((1/200)*model.b+(1/140)*model.c)<=max_hours)\n",
    "model.value=Objective(expr=25*model.b+30*model.c, sense=maximize)"
   ]
  },
  {
   "cell_type": "code",
   "execution_count": 38,
   "metadata": {},
   "outputs": [],
   "source": [
    "solvername='glpk'\n",
    "solverpath_folder='C:\\\\Data\\\\w64' #does not need to be directly on c drive\n",
    "solverpath_exe='C:\\\\Data\\\\w64\\\\glpsol' #does not need to be directly on c drive\n",
    "solver=SolverFactory(solvername,executable=solverpath_exe)"
   ]
  },
  {
   "cell_type": "code",
   "execution_count": 43,
   "metadata": {},
   "outputs": [
    {
     "name": "stdout",
     "output_type": "stream",
     "text": [
      "GLPSOL: GLPK LP/MIP Solver, v4.65\n",
      "Parameter(s) specified in the command line:\n",
      " --write C:\\Users\\ARAAVI~1.FI\\AppData\\Local\\Temp\\tmpag2_9wq9.glpk.raw --wglp\n",
      " C:\\Users\\ARAAVI~1.FI\\AppData\\Local\\Temp\\tmpev2zti_c.glpk.glp --cpxlp C:\\Users\\ARAAVI~1.FI\\AppData\\Local\\Temp\\tmp5ui9ip_b.pyomo.lp\n",
      "Reading problem data from 'C:\\Users\\ARAAVI~1.FI\\AppData\\Local\\Temp\\tmp5ui9ip_b.pyomo.lp'...\n",
      "2 rows, 3 columns, 3 non-zeros\n",
      "21 lines were read\n",
      "Writing problem data to 'C:\\Users\\ARAAVI~1.FI\\AppData\\Local\\Temp\\tmpev2zti_c.glpk.glp'...\n",
      "17 lines were written\n",
      "GLPK Simplex Optimizer, v4.65\n",
      "2 rows, 3 columns, 3 non-zeros\n",
      "Preprocessing...\n",
      "1 row, 2 columns, 2 non-zeros\n",
      "Scaling...\n",
      " A: min|aij| =  5.000e-03  max|aij| =  7.143e-03  ratio =  1.429e+00\n",
      "GM: min|aij| =  1.000e+00  max|aij| =  1.000e+00  ratio =  1.000e+00\n",
      "EQ: min|aij| =  1.000e+00  max|aij| =  1.000e+00  ratio =  1.000e+00\n",
      "Constructing initial basis...\n",
      "Size of triangular part is 1\n",
      "*     0: obj =  -0.000000000e+00 inf =   0.000e+00 (2)\n",
      "*     1: obj =   5.000000000e+04 inf =   0.000e+00 (0)\n",
      "OPTIMAL LP SOLUTION FOUND\n",
      "Time used:   0.0 secs\n",
      "Memory used: 0.0 Mb (40400 bytes)\n",
      "Writing basic solution to 'C:\\Users\\ARAAVI~1.FI\\AppData\\Local\\Temp\\tmpag2_9wq9.glpk.raw'...\n",
      "14 lines were written\n",
      "2 Var Declarations\n",
      "    b : Size=1, Index=None\n",
      "        Key  : Lower : Value  : Upper : Fixed : Stale : Domain\n",
      "        None :     0 : 2000.0 :  6000 : False : False :  Reals\n",
      "    c : Size=1, Index=None\n",
      "        Key  : Lower : Value : Upper : Fixed : Stale : Domain\n",
      "        None :     0 :   0.0 :  4000 : False : False :  Reals\n",
      "\n",
      "1 Objective Declarations\n",
      "    value : Size=1, Index=None, Active=True\n",
      "        Key  : Active : Sense    : Expression\n",
      "        None :   True : maximize : 25*b + 30*c\n",
      "\n",
      "1 Constraint Declarations\n",
      "    limit : Size=1, Index=None, Active=True\n",
      "        Key  : Lower : Body                             : Upper : Active\n",
      "        None :  -Inf : 0.005*b + 0.007142857142857143*c :  10.0 :   True\n",
      "\n",
      "4 Declarations: b c limit value\n"
     ]
    }
   ],
   "source": [
    "result_obj=solver.solve(model, tee=True)\n",
    "model.pprint()"
   ]
  },
  {
   "cell_type": "code",
   "execution_count": 44,
   "metadata": {},
   "outputs": [
    {
     "name": "stdout",
     "output_type": "stream",
     "text": [
      "2 Var Declarations\n",
      "    b : Size=1, Index=None\n",
      "        Key  : Lower : Value  : Upper : Fixed : Stale : Domain\n",
      "        None :     0 : 2000.0 :  6000 : False : False :  Reals\n",
      "    c : Size=1, Index=None\n",
      "        Key  : Lower : Value : Upper : Fixed : Stale : Domain\n",
      "        None :     0 :   0.0 :  4000 : False : False :  Reals\n",
      "\n",
      "1 Objective Declarations\n",
      "    value : Size=1, Index=None, Active=True\n",
      "        Key  : Active : Sense    : Expression\n",
      "        None :   True : maximize : 25*b + 30*c\n",
      "\n",
      "1 Constraint Declarations\n",
      "    limit : Size=1, Index=None, Active=True\n",
      "        Key  : Lower : Body                             : Upper : Active\n",
      "        None :  -Inf : 0.005*b + 0.007142857142857143*c :  10.0 :   True\n",
      "\n",
      "4 Declarations: b c limit value\n"
     ]
    }
   ],
   "source": [
    "model.pprint()"
   ]
  },
  {
   "cell_type": "code",
   "execution_count": null,
   "metadata": {},
   "outputs": [],
   "source": []
  }
 ],
 "metadata": {
  "kernelspec": {
   "display_name": "Python 3.9.5 64-bit",
   "language": "python",
   "name": "python3"
  },
  "language_info": {
   "codemirror_mode": {
    "name": "ipython",
    "version": 3
   },
   "file_extension": ".py",
   "mimetype": "text/x-python",
   "name": "python",
   "nbconvert_exporter": "python",
   "pygments_lexer": "ipython3",
   "version": "3.9.5"
  },
  "orig_nbformat": 4,
  "vscode": {
   "interpreter": {
    "hash": "11938c6bc6919ae2720b4d5011047913343b08a43b18698fd82dedb0d4417594"
   }
  }
 },
 "nbformat": 4,
 "nbformat_minor": 2
}
